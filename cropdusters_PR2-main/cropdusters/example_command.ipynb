{
 "cells": [
  {
   "cell_type": "markdown",
   "id": "22e44d7d",
   "metadata": {},
   "source": [
    "# Example Commands\n",
    "This notebook demonstrates example commands using the `extract.py` and `load.py` scripts."
   ]
  },
  {
   "cell_type": "code",
   "execution_count": 8,
   "id": "d1c4e129",
   "metadata": {},
   "outputs": [
    {
     "name": "stdout",
     "output_type": "stream",
     "text": [
      "weather data: {'latitude': 37.763283, 'longitude': -122.41286, 'generationtime_ms': 0.1329183578491211, 'utc_offset_seconds': 0, 'timezone': 'GMT', 'timezone_abbreviation': 'GMT', 'elevation': 18.0, 'hourly_units': {'time': 'iso8601', 'temperature_2m': '°C', 'relativehumidity_2m': '%', 'precipitation': 'mm', 'cloudcover': '%', 'windspeed_10m': 'km/h', 'soil_temperature_0cm': '°C', 'soil_moisture_0_to_1cm': 'm³/m³'}, 'hourly': {'time': ['2023-01-01T00:00', '2023-01-01T01:00', '2023-01-01T02:00', '2023-01-01T03:00', '2023-01-01T04:00', '2023-01-01T05:00', '2023-01-01T06:00', '2023-01-01T07:00', '2023-01-01T08:00', '2023-01-01T09:00', '2023-01-01T10:00', '2023-01-01T11:00', '2023-01-01T12:00', '2023-01-01T13:00', '2023-01-01T14:00', '2023-01-01T15:00', '2023-01-01T16:00', '2023-01-01T17:00', '2023-01-01T18:00', '2023-01-01T19:00', '2023-01-01T20:00', '2023-01-01T21:00', '2023-01-01T22:00', '2023-01-01T23:00', '2023-01-02T00:00', '2023-01-02T01:00', '2023-01-02T02:00', '2023-01-02T03:00', '2023-01-02T04:00', '2023-01-02T05:00', '2023-01-02T06:00', '2023-01-02T07:00', '2023-01-02T08:00', '2023-01-02T09:00', '2023-01-02T10:00', '2023-01-02T11:00', '2023-01-02T12:00', '2023-01-02T13:00', '2023-01-02T14:00', '2023-01-02T15:00', '2023-01-02T16:00', '2023-01-02T17:00', '2023-01-02T18:00', '2023-01-02T19:00', '2023-01-02T20:00', '2023-01-02T21:00', '2023-01-02T22:00', '2023-01-02T23:00', '2023-01-03T00:00', '2023-01-03T01:00', '2023-01-03T02:00', '2023-01-03T03:00', '2023-01-03T04:00', '2023-01-03T05:00', '2023-01-03T06:00', '2023-01-03T07:00', '2023-01-03T08:00', '2023-01-03T09:00', '2023-01-03T10:00', '2023-01-03T11:00', '2023-01-03T12:00', '2023-01-03T13:00', '2023-01-03T14:00', '2023-01-03T15:00', '2023-01-03T16:00', '2023-01-03T17:00', '2023-01-03T18:00', '2023-01-03T19:00', '2023-01-03T20:00', '2023-01-03T21:00', '2023-01-03T22:00', '2023-01-03T23:00', '2023-01-04T00:00', '2023-01-04T01:00', '2023-01-04T02:00', '2023-01-04T03:00', '2023-01-04T04:00', '2023-01-04T05:00', '2023-01-04T06:00', '2023-01-04T07:00', '2023-01-04T08:00', '2023-01-04T09:00', '2023-01-04T10:00', '2023-01-04T11:00', '2023-01-04T12:00', '2023-01-04T13:00', '2023-01-04T14:00', '2023-01-04T15:00', '2023-01-04T16:00', '2023-01-04T17:00', '2023-01-04T18:00', '2023-01-04T19:00', '2023-01-04T20:00', '2023-01-04T21:00', '2023-01-04T22:00', '2023-01-04T23:00', '2023-01-05T00:00', '2023-01-05T01:00', '2023-01-05T02:00', '2023-01-05T03:00', '2023-01-05T04:00', '2023-01-05T05:00', '2023-01-05T06:00', '2023-01-05T07:00', '2023-01-05T08:00', '2023-01-05T09:00', '2023-01-05T10:00', '2023-01-05T11:00', '2023-01-05T12:00', '2023-01-05T13:00', '2023-01-05T14:00', '2023-01-05T15:00', '2023-01-05T16:00', '2023-01-05T17:00', '2023-01-05T18:00', '2023-01-05T19:00', '2023-01-05T20:00', '2023-01-05T21:00', '2023-01-05T22:00', '2023-01-05T23:00'], 'temperature_2m': [None, None, None, None, None, None, None, None, None, None, None, None, None, None, None, None, None, None, None, None, None, None, None, None, None, None, None, None, None, None, None, None, None, None, None, None, None, None, None, None, None, None, None, None, None, None, None, None, None, None, None, None, None, None, None, None, None, None, None, None, None, None, None, None, None, None, None, None, None, None, None, None, None, None, None, None, None, None, None, None, None, None, None, None, None, None, None, None, None, None, None, None, None, None, None, None, None, None, None, None, None, None, None, None, None, None, None, None, None, None, None, None, None, None, None, None, None, None, None, None], 'relativehumidity_2m': [None, None, None, None, None, None, None, None, None, None, None, None, None, None, None, None, None, None, None, None, None, None, None, None, None, None, None, None, None, None, None, None, None, None, None, None, None, None, None, None, None, None, None, None, None, None, None, None, None, None, None, None, None, None, None, None, None, None, None, None, None, None, None, None, None, None, None, None, None, None, None, None, None, None, None, None, None, None, None, None, None, None, None, None, None, None, None, None, None, None, None, None, None, None, None, None, None, None, None, None, None, None, None, None, None, None, None, None, None, None, None, None, None, None, None, None, None, None, None, None], 'precipitation': [None, None, None, None, None, None, None, None, None, None, None, None, None, None, None, None, None, None, None, None, None, None, None, None, None, None, None, None, None, None, None, None, None, None, None, None, None, None, None, None, None, None, None, None, None, None, None, None, None, None, None, None, None, None, None, None, None, None, None, None, None, None, None, None, None, None, None, None, None, None, None, None, None, None, None, None, None, None, None, None, None, None, None, None, None, None, None, None, None, None, None, None, None, None, None, None, None, None, None, None, None, None, None, None, None, None, None, None, None, None, None, None, None, None, None, None, None, None, None, None], 'cloudcover': [None, None, None, None, None, None, None, None, None, None, None, None, None, None, None, None, None, None, None, None, None, None, None, None, None, None, None, None, None, None, None, None, None, None, None, None, None, None, None, None, None, None, None, None, None, None, None, None, None, None, None, None, None, None, None, None, None, None, None, None, None, None, None, None, None, None, None, None, None, None, None, None, None, None, None, None, None, None, None, None, None, None, None, None, None, None, None, None, None, None, None, None, None, None, None, None, None, None, None, None, None, None, None, None, None, None, None, None, None, None, None, None, None, None, None, None, None, None, None, None], 'windspeed_10m': [None, None, None, None, None, None, None, None, None, None, None, None, None, None, None, None, None, None, None, None, None, None, None, None, None, None, None, None, None, None, None, None, None, None, None, None, None, None, None, None, None, None, None, None, None, None, None, None, None, None, None, None, None, None, None, None, None, None, None, None, None, None, None, None, None, None, None, None, None, None, None, None, None, None, None, None, None, None, None, None, None, None, None, None, None, None, None, None, None, None, None, None, None, None, None, None, None, None, None, None, None, None, None, None, None, None, None, None, None, None, None, None, None, None, None, None, None, None, None, None], 'soil_temperature_0cm': [None, None, None, None, None, None, None, None, None, None, None, None, None, None, None, None, None, None, None, None, None, None, None, None, None, None, None, None, None, None, None, None, None, None, None, None, None, None, None, None, None, None, None, None, None, None, None, None, None, None, None, None, None, None, None, None, None, None, None, None, None, None, None, None, None, None, None, None, None, None, None, None, None, None, None, None, None, None, None, None, None, None, None, None, None, None, None, None, None, None, None, None, None, None, None, None, None, None, None, None, None, None, None, None, None, None, None, None, None, None, None, None, None, None, None, None, None, None, None, None], 'soil_moisture_0_to_1cm': [None, None, None, None, None, None, None, None, None, None, None, None, None, None, None, None, None, None, None, None, None, None, None, None, None, None, None, None, None, None, None, None, None, None, None, None, None, None, None, None, None, None, None, None, None, None, None, None, None, None, None, None, None, None, None, None, None, None, None, None, None, None, None, None, None, None, None, None, None, None, None, None, None, None, None, None, None, None, None, None, None, None, None, None, None, None, None, None, None, None, None, None, None, None, None, None, None, None, None, None, None, None, None, None, None, None, None, None, None, None, None, None, None, None, None, None, None, None, None, None]}, 'daily_units': {'time': 'iso8601', 'temperature_2m_max': '°C', 'temperature_2m_min': '°C', 'uv_index_max': '', 'precipitation_sum': 'mm', 'precipitation_hours': 'h'}, 'daily': {'time': ['2023-01-01', '2023-01-02', '2023-01-03', '2023-01-04', '2023-01-05'], 'temperature_2m_max': [None, None, None, None, None], 'temperature_2m_min': [None, None, None, None, None], 'uv_index_max': [None, None, None, None, None], 'precipitation_sum': [None, None, None, None, None], 'precipitation_hours': [0.0, 0.0, 0.0, 0.0, 0.0]}}\n"
     ]
    }
   ],
   "source": [
    "\n",
    "# Import necessary libraries\n",
    "import requests\n",
    "import json\n",
    "from dotenv import load_dotenv\n",
    "import os\n",
    "import extract\n",
    "\n",
    "# Load environment variables\n",
    "load_dotenv()\n",
    "\n",
    "# Extract crop yields data\n",
    "yields = extract.extract_crop_yields(State_Code=\"CA\", commodity_desc=\"Wheat\", year=2015)\n",
    "\n",
    "# Extract weather data\n",
    "weather = extract.extract_weather(latitude=37.7749, longitude=-122.4194, start_date=\"2023-01-01\", end_date=\"2023-01-05\")\n",
    "print(f\"weather data: {weather}\")\n",
    "\n",
    "# # Extract stock data\n",
    "# extract_crop_chooser(symbol=\"AAPL\")\n"
   ]
  },
  {
   "cell_type": "markdown",
   "id": "241a30e2",
   "metadata": {},
   "source": [
    "\n",
    "### Explanation:\n",
    "\n",
    "- The `extract_crop_yields` function is called with parameters specifying the state code, commodity description, and year to extract crop yields data from the USDA API.\n",
    "\n",
    "- The `extract_weather` function is called with latitude, longitude, start date, and end date to extract weather data from the Open-Meteo API.\n",
    "\n",
    "- The `extract_crop_chooser` function is called with a stock symbol (AAPL) to extract stock data from the AlphaVantage API.\n"
   ]
  },
  {
   "cell_type": "code",
   "execution_count": 20,
   "metadata": {},
   "outputs": [
    {
     "ename": "IOException",
     "evalue": "IO Error: Cannot open file \"/workspaces/cropdusters_PR2/cropdusters/transform/dev.duckdb\": No such file or directory",
     "output_type": "error",
     "traceback": [
      "\u001b[0;31m---------------------------------------------------------------------------\u001b[0m",
      "\u001b[0;31mIOException\u001b[0m                               Traceback (most recent call last)",
      "\u001b[1;32m/workspaces/cropdusters_PR2/cropdusters/example_command.ipynb Cell 4\u001b[0m line \u001b[0;36m2\n\u001b[1;32m     <a href='vscode-notebook-cell://codespaces%2Bjubilant-pancake-p95gr5pvwx526qxq/workspaces/cropdusters_PR2/cropdusters/example_command.ipynb#W5sdnNjb2RlLXJlbW90ZQ%3D%3D?line=15'>16</a>\u001b[0m \u001b[39mimport\u001b[39;00m \u001b[39mos\u001b[39;00m\n\u001b[1;32m     <a href='vscode-notebook-cell://codespaces%2Bjubilant-pancake-p95gr5pvwx526qxq/workspaces/cropdusters_PR2/cropdusters/example_command.ipynb#W5sdnNjb2RlLXJlbW90ZQ%3D%3D?line=18'>19</a>\u001b[0m os\u001b[39m.\u001b[39mchdir(\u001b[39m'\u001b[39m\u001b[39m/workspaces/cropdusters_PR2/cropdusters/\u001b[39m\u001b[39m'\u001b[39m) \n\u001b[0;32m---> <a href='vscode-notebook-cell://codespaces%2Bjubilant-pancake-p95gr5pvwx526qxq/workspaces/cropdusters_PR2/cropdusters/example_command.ipynb#W5sdnNjb2RlLXJlbW90ZQ%3D%3D?line=19'>20</a>\u001b[0m duckb \u001b[39m=\u001b[39m duckdb\u001b[39m.\u001b[39;49mconnect(\u001b[39m'\u001b[39;49m\u001b[39m/workspaces/cropdusters_PR2/cropdusters/transform/dev.duckdb\u001b[39;49m\u001b[39m'\u001b[39;49m)\n\u001b[1;32m     <a href='vscode-notebook-cell://codespaces%2Bjubilant-pancake-p95gr5pvwx526qxq/workspaces/cropdusters_PR2/cropdusters/example_command.ipynb#W5sdnNjb2RlLXJlbW90ZQ%3D%3D?line=20'>21</a>\u001b[0m \u001b[39mprint\u001b[39m(os\u001b[39m.\u001b[39mgetcwd())\n",
      "\u001b[0;31mIOException\u001b[0m: IO Error: Cannot open file \"/workspaces/cropdusters_PR2/cropdusters/transform/dev.duckdb\": No such file or directory"
     ]
    }
   ],
   "source": [
    "\n",
    "# Import necessary libraries\n",
    "import pandas as pd\n",
    "import duckdb\n",
    "import json\n",
    "# import load\n",
    "\n",
    "# Load crop yield data into DuckDB database\n",
    "# load_files_into_db(data)\n",
    "\n",
    "# Load crop chooser data into DuckDB database\n",
    "# load_crop_chooser_into_db()\n",
    "\n",
    "# Load weather data into DuckDB database\n",
    "# load.load_weather_into_db()\n",
    "# %run load.py\n",
    "import os\n",
    "\n",
    "\n",
    "os.chdir('/workspaces/cropdusters_PR2/cropdusters/') \n",
    "duckb = duckdb.connect('/workspaces/cropdusters_PR2/cropdusters/transform/dev.duckdb')\n",
    "print(os.getcwd())"
   ]
  },
  {
   "cell_type": "markdown",
   "id": "8805d446",
   "metadata": {},
   "source": [
    "\n",
    "### Explanation:\n",
    "\n",
    "- The `load_files_into_db` function is called to load crop yield data into a DuckDB database.\n",
    "\n",
    "- The `load_crop_chooser_into_db` function is called to load crop chooser data into a DuckDB database.\n",
    "\n",
    "- The `load_weather_into_db` function is called to load weather data into a DuckDB database.\n"
   ]
  }
 ],
 "metadata": {
  "kernelspec": {
   "display_name": ".venv",
   "language": "python",
   "name": "python3"
  },
  "language_info": {
   "codemirror_mode": {
    "name": "ipython",
    "version": 3
   },
   "file_extension": ".py",
   "mimetype": "text/x-python",
   "name": "python",
   "nbconvert_exporter": "python",
   "pygments_lexer": "ipython3",
   "version": "3.11.6"
  }
 },
 "nbformat": 4,
 "nbformat_minor": 5
}
