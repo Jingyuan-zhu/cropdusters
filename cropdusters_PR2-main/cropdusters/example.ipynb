{
 "cells": [
  {
   "cell_type": "code",
   "execution_count": 4,
   "metadata": {},
   "outputs": [
    {
     "name": "stdout",
     "output_type": "stream",
     "text": [
      "example.ipynb has been generated.\n"
     ]
    }
   ],
   "source": [
    "import nbformat\n",
    "\n",
    "# Create a new Jupyter notebook\n",
    "notebook = nbformat.v4.new_notebook()\n",
    "\n",
    "# Markdown cell with an introduction\n",
    "notebook.cells.append(nbformat.v4.new_markdown_cell(\"# Example Commands\\nThis notebook demonstrates example commands using the `extract.py` and `load.py` scripts.\"))\n",
    "\n",
    "# Code cell with extract.py commands\n",
    "extract_commands = \"\"\"\n",
    "# Import necessary libraries\n",
    "import requests\n",
    "import json\n",
    "from dotenv import load_dotenv\n",
    "import os\n",
    "\n",
    "# Load environment variables\n",
    "load_dotenv()\n",
    "\n",
    "# Extract crop yields data\n",
    "extract_crop_yields(State_Code=\"CA\", commodity_desc=\"Wheat\", year=2015)\n",
    "\n",
    "# Extract weather data\n",
    "extract_weather(latitude=37.7749, longitude=-122.4194, start_date=\"2023-01-01\", end_date=\"2023-01-05\")\n",
    "\n",
    "# Extract stock data\n",
    "extract_crop_chooser(symbol=\"AAPL\")\n",
    "\"\"\"\n",
    "\n",
    "notebook.cells.append(nbformat.v4.new_code_cell(extract_commands))\n",
    "\n",
    "# Markdown cell with explanations\n",
    "explanation_extract = \"\"\"\n",
    "### Explanation:\n",
    "\n",
    "- The `extract_crop_yields` function is called with parameters specifying the state code, commodity description, and year to extract crop yields data from the USDA API.\n",
    "\n",
    "- The `extract_weather` function is called with latitude, longitude, start date, and end date to extract weather data from the Open-Meteo API.\n",
    "\n",
    "- The `extract_crop_chooser` function is called with a stock symbol (AAPL) to extract stock data from the AlphaVantage API.\n",
    "\"\"\"\n",
    "\n",
    "notebook.cells.append(nbformat.v4.new_markdown_cell(explanation_extract))\n",
    "\n",
    "# Code cell with load.py commands\n",
    "load_commands = \"\"\"\n",
    "# Import necessary libraries\n",
    "import pandas as pd\n",
    "import duckdb\n",
    "import json\n",
    "\n",
    "# Load crop yield data into DuckDB database\n",
    "load_files_into_db(data)\n",
    "\n",
    "# Load crop chooser data into DuckDB database\n",
    "load_crop_chooser_into_db()\n",
    "\n",
    "# Load weather data into DuckDB database\n",
    "load_weather_into_db()\n",
    "\"\"\"\n",
    "\n",
    "notebook.cells.append(nbformat.v4.new_code_cell(load_commands))\n",
    "\n",
    "# Markdown cell with explanations\n",
    "explanation_load = \"\"\"\n",
    "### Explanation:\n",
    "\n",
    "- The `load_files_into_db` function is called to load crop yield data into a DuckDB database.\n",
    "\n",
    "- The `load_crop_chooser_into_db` function is called to load crop chooser data into a DuckDB database.\n",
    "\n",
    "- The `load_weather_into_db` function is called to load weather data into a DuckDB database.\n",
    "\"\"\"\n",
    "\n",
    "notebook.cells.append(nbformat.v4.new_markdown_cell(explanation_load))\n",
    "\n",
    "# Save the notebook to example.ipynb\n",
    "with open('example_command.ipynb', 'w') as notebook_file:\n",
    "    nbformat.write(notebook, notebook_file)\n",
    "\n",
    "print(\"example.ipynb has been generated.\")\n"
   ]
  },
  {
   "cell_type": "code",
   "execution_count": 2,
   "metadata": {},
   "outputs": [
    {
     "name": "stdout",
     "output_type": "stream",
     "text": [
      "Collecting nbformat\n",
      "  Obtaining dependency information for nbformat from https://files.pythonhosted.org/packages/f4/e7/ef30a90b70eba39e675689b9eaaa92530a71d7435ab8f9cae520814e0caf/nbformat-5.9.2-py3-none-any.whl.metadata\n",
      "  Downloading nbformat-5.9.2-py3-none-any.whl.metadata (3.4 kB)\n",
      "Collecting fastjsonschema (from nbformat)\n",
      "  Obtaining dependency information for fastjsonschema from https://files.pythonhosted.org/packages/63/e9/d3dca06ea6b8e58e65716973bc7d9bee9bc39ce233595aa04d04e89a1089/fastjsonschema-2.19.0-py3-none-any.whl.metadata\n",
      "  Downloading fastjsonschema-2.19.0-py3-none-any.whl.metadata (2.0 kB)\n",
      "Requirement already satisfied: jsonschema>=2.6 in /workspaces/cropdusters_PR2/.venv/lib/python3.11/site-packages (from nbformat) (4.19.1)\n",
      "Requirement already satisfied: jupyter-core in /workspaces/cropdusters_PR2/.venv/lib/python3.11/site-packages (from nbformat) (5.5.0)\n",
      "Requirement already satisfied: traitlets>=5.1 in /workspaces/cropdusters_PR2/.venv/lib/python3.11/site-packages (from nbformat) (5.13.0)\n",
      "Requirement already satisfied: attrs>=22.2.0 in /workspaces/cropdusters_PR2/.venv/lib/python3.11/site-packages (from jsonschema>=2.6->nbformat) (23.1.0)\n",
      "Requirement already satisfied: jsonschema-specifications>=2023.03.6 in /workspaces/cropdusters_PR2/.venv/lib/python3.11/site-packages (from jsonschema>=2.6->nbformat) (2023.7.1)\n",
      "Requirement already satisfied: referencing>=0.28.4 in /workspaces/cropdusters_PR2/.venv/lib/python3.11/site-packages (from jsonschema>=2.6->nbformat) (0.30.2)\n",
      "Requirement already satisfied: rpds-py>=0.7.1 in /workspaces/cropdusters_PR2/.venv/lib/python3.11/site-packages (from jsonschema>=2.6->nbformat) (0.10.6)\n",
      "Requirement already satisfied: platformdirs>=2.5 in /workspaces/cropdusters_PR2/.venv/lib/python3.11/site-packages (from jupyter-core->nbformat) (3.11.0)\n",
      "Downloading nbformat-5.9.2-py3-none-any.whl (77 kB)\n",
      "\u001b[2K   \u001b[90m━━━━━━━━━━━━━━━━━━━━━━━━━━━━━━━━━━━━━━━━\u001b[0m \u001b[32m77.6/77.6 kB\u001b[0m \u001b[31m2.4 MB/s\u001b[0m eta \u001b[36m0:00:00\u001b[0m\n",
      "\u001b[?25hDownloading fastjsonschema-2.19.0-py3-none-any.whl (23 kB)\n",
      "Installing collected packages: fastjsonschema, nbformat\n",
      "Successfully installed fastjsonschema-2.19.0 nbformat-5.9.2\n",
      "\n",
      "\u001b[1m[\u001b[0m\u001b[34;49mnotice\u001b[0m\u001b[1;39;49m]\u001b[0m\u001b[39;49m A new release of pip is available: \u001b[0m\u001b[31;49m23.2.1\u001b[0m\u001b[39;49m -> \u001b[0m\u001b[32;49m23.3.1\u001b[0m\n",
      "\u001b[1m[\u001b[0m\u001b[34;49mnotice\u001b[0m\u001b[1;39;49m]\u001b[0m\u001b[39;49m To update, run: \u001b[0m\u001b[32;49mpip install --upgrade pip\u001b[0m\n"
     ]
    }
   ],
   "source": [
    "!pip install nbformat"
   ]
  }
 ],
 "metadata": {
  "kernelspec": {
   "display_name": ".venv",
   "language": "python",
   "name": "python3"
  },
  "language_info": {
   "codemirror_mode": {
    "name": "ipython",
    "version": 3
   },
   "file_extension": ".py",
   "mimetype": "text/x-python",
   "name": "python",
   "nbconvert_exporter": "python",
   "pygments_lexer": "ipython3",
   "version": "3.11.6"
  }
 },
 "nbformat": 4,
 "nbformat_minor": 2
}
